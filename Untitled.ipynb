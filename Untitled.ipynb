{
 "cells": [
  {
   "cell_type": "code",
   "execution_count": 1,
   "id": "581b6701-ebe0-4aec-879c-424e853aa1e3",
   "metadata": {},
   "outputs": [],
   "source": [
    "from bokeh.plotting import figure, output_file, show\n",
    "from bokeh.models import ColumnDataSource\n",
    "data = {'x':[1, 4, 3, 2, 5],\n",
    "   'y':[6, 5, 2, 4, 7]}\n",
    "cds = ColumnDataSource(data = data)\n",
    "fig = figure()\n",
    "fig.scatter(x = 'x', y = 'y',source = cds, marker = \"circle\", size = 20, fill_color = \"grey\")\n",
    "show(fig)"
   ]
  },
  {
   "cell_type": "code",
   "execution_count": 4,
   "id": "df626665-494f-42e6-b93b-a242c10c9f23",
   "metadata": {},
   "outputs": [
    {
     "data": {
      "text/plain": [
       "{'x': [1, 4, 3, 2, 5], 'y': [6, 5, 2, 4, 7]}"
      ]
     },
     "execution_count": 4,
     "metadata": {},
     "output_type": "execute_result"
    }
   ],
   "source": [
    "cds.data"
   ]
  },
  {
   "cell_type": "code",
   "execution_count": null,
   "id": "30a0af62-0700-4fdd-afbf-5c81eefb5bc3",
   "metadata": {},
   "outputs": [],
   "source": []
  }
 ],
 "metadata": {
  "kernelspec": {
   "display_name": "Front Testing",
   "language": "python",
   "name": "front-tester"
  },
  "language_info": {
   "codemirror_mode": {
    "name": "ipython",
    "version": 3
   },
   "file_extension": ".py",
   "mimetype": "text/x-python",
   "name": "python",
   "nbconvert_exporter": "python",
   "pygments_lexer": "ipython3",
   "version": "3.9.12"
  }
 },
 "nbformat": 4,
 "nbformat_minor": 5
}
